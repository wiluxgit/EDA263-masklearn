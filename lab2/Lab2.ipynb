{
 "cells": [
  {
   "cell_type": "code",
   "execution_count": null,
   "metadata": {},
   "outputs": [],
   "source": []
  },
  {
   "attachments": {},
   "cell_type": "markdown",
   "metadata": {},
   "source": [
    "### Step 1\n",
    "read Data"
   ]
  },
  {
   "cell_type": "code",
   "execution_count": 36,
   "metadata": {},
   "outputs": [],
   "source": [
    "import pandas as pd\n",
    "\n",
    "class DataSet:\n",
    "    def __init__(self, X=None, Y=None, File=None, Vectorizer=None):\n",
    "        self.X = X\n",
    "        self.Y = Y\n",
    "        self.File = File\n",
    "\n",
    "train = DataSet(File=\"assets/adult_train.csv\")\n",
    "test = DataSet(File=\"assets/adult_test.csv\")\n",
    "datasets = [train, test]\n",
    "\n",
    "for dset in datasets:\n",
    "    csvdat = pd.read_csv(dset.File)\n",
    "    data_shuffled = csvdat.sample(frac=1.0, random_state=0)\n",
    "    \n",
    "    dset.X = data_shuffled.drop('target', axis=1)\n",
    "    dset.Y = data_shuffled['target']"
   ]
  },
  {
   "cell_type": "code",
   "execution_count": 34,
   "metadata": {},
   "outputs": [
    {
     "name": "stdout",
     "output_type": "stream",
     "text": [
      "22278    <=50K\n",
      "8950     <=50K\n",
      "7838     <=50K\n",
      "16505    <=50K\n",
      "19140     >50K\n",
      "Name: target, dtype: object\n"
     ]
    },
    {
     "data": {
      "text/html": [
       "<div>\n",
       "<style scoped>\n",
       "    .dataframe tbody tr th:only-of-type {\n",
       "        vertical-align: middle;\n",
       "    }\n",
       "\n",
       "    .dataframe tbody tr th {\n",
       "        vertical-align: top;\n",
       "    }\n",
       "\n",
       "    .dataframe thead th {\n",
       "        text-align: right;\n",
       "    }\n",
       "</style>\n",
       "<table border=\"1\" class=\"dataframe\">\n",
       "  <thead>\n",
       "    <tr style=\"text-align: right;\">\n",
       "      <th></th>\n",
       "      <th>age</th>\n",
       "      <th>workclass</th>\n",
       "      <th>education</th>\n",
       "      <th>education-num</th>\n",
       "      <th>marital-status</th>\n",
       "      <th>occupation</th>\n",
       "      <th>relationship</th>\n",
       "      <th>race</th>\n",
       "      <th>sex</th>\n",
       "      <th>capital-gain</th>\n",
       "      <th>capital-loss</th>\n",
       "      <th>hours-per-week</th>\n",
       "      <th>native-country</th>\n",
       "    </tr>\n",
       "  </thead>\n",
       "  <tbody>\n",
       "    <tr>\n",
       "      <th>22278</th>\n",
       "      <td>49</td>\n",
       "      <td>Local-gov</td>\n",
       "      <td>HS-grad</td>\n",
       "      <td>9</td>\n",
       "      <td>Married-civ-spouse</td>\n",
       "      <td>Transport-moving</td>\n",
       "      <td>Husband</td>\n",
       "      <td>White</td>\n",
       "      <td>Male</td>\n",
       "      <td>0</td>\n",
       "      <td>0</td>\n",
       "      <td>40</td>\n",
       "      <td>United-States</td>\n",
       "    </tr>\n",
       "    <tr>\n",
       "      <th>8950</th>\n",
       "      <td>49</td>\n",
       "      <td>Private</td>\n",
       "      <td>HS-grad</td>\n",
       "      <td>9</td>\n",
       "      <td>Divorced</td>\n",
       "      <td>Other-service</td>\n",
       "      <td>Not-in-family</td>\n",
       "      <td>Black</td>\n",
       "      <td>Female</td>\n",
       "      <td>0</td>\n",
       "      <td>0</td>\n",
       "      <td>40</td>\n",
       "      <td>United-States</td>\n",
       "    </tr>\n",
       "    <tr>\n",
       "      <th>7838</th>\n",
       "      <td>31</td>\n",
       "      <td>Private</td>\n",
       "      <td>Prof-school</td>\n",
       "      <td>15</td>\n",
       "      <td>Never-married</td>\n",
       "      <td>Prof-specialty</td>\n",
       "      <td>Not-in-family</td>\n",
       "      <td>White</td>\n",
       "      <td>Male</td>\n",
       "      <td>0</td>\n",
       "      <td>0</td>\n",
       "      <td>50</td>\n",
       "      <td>United-States</td>\n",
       "    </tr>\n",
       "    <tr>\n",
       "      <th>16505</th>\n",
       "      <td>53</td>\n",
       "      <td>Private</td>\n",
       "      <td>Some-college</td>\n",
       "      <td>10</td>\n",
       "      <td>Divorced</td>\n",
       "      <td>Adm-clerical</td>\n",
       "      <td>Not-in-family</td>\n",
       "      <td>White</td>\n",
       "      <td>Female</td>\n",
       "      <td>0</td>\n",
       "      <td>0</td>\n",
       "      <td>43</td>\n",
       "      <td>United-States</td>\n",
       "    </tr>\n",
       "    <tr>\n",
       "      <th>19140</th>\n",
       "      <td>30</td>\n",
       "      <td>Private</td>\n",
       "      <td>Bachelors</td>\n",
       "      <td>13</td>\n",
       "      <td>Married-civ-spouse</td>\n",
       "      <td>Prof-specialty</td>\n",
       "      <td>Husband</td>\n",
       "      <td>White</td>\n",
       "      <td>Male</td>\n",
       "      <td>0</td>\n",
       "      <td>0</td>\n",
       "      <td>40</td>\n",
       "      <td>United-States</td>\n",
       "    </tr>\n",
       "  </tbody>\n",
       "</table>\n",
       "</div>"
      ],
      "text/plain": [
       "       age  workclass     education  education-num      marital-status  \\\n",
       "22278   49  Local-gov       HS-grad              9  Married-civ-spouse   \n",
       "8950    49    Private       HS-grad              9            Divorced   \n",
       "7838    31    Private   Prof-school             15       Never-married   \n",
       "16505   53    Private  Some-college             10            Divorced   \n",
       "19140   30    Private     Bachelors             13  Married-civ-spouse   \n",
       "\n",
       "             occupation   relationship   race     sex  capital-gain  \\\n",
       "22278  Transport-moving        Husband  White    Male             0   \n",
       "8950      Other-service  Not-in-family  Black  Female             0   \n",
       "7838     Prof-specialty  Not-in-family  White    Male             0   \n",
       "16505      Adm-clerical  Not-in-family  White  Female             0   \n",
       "19140    Prof-specialty        Husband  White    Male             0   \n",
       "\n",
       "       capital-loss  hours-per-week native-country  \n",
       "22278             0              40  United-States  \n",
       "8950              0              40  United-States  \n",
       "7838              0              50  United-States  \n",
       "16505             0              43  United-States  \n",
       "19140             0              40  United-States  "
      ]
     },
     "execution_count": 34,
     "metadata": {},
     "output_type": "execute_result"
    }
   ],
   "source": [
    "# Train Preview\n",
    "print(train.Y.head())\n",
    "train.X.head()"
   ]
  },
  {
   "attachments": {},
   "cell_type": "markdown",
   "metadata": {},
   "source": [
    "### Step 2\n",
    "Dict Vectorizer"
   ]
  },
  {
   "cell_type": "code",
   "execution_count": 35,
   "metadata": {},
   "outputs": [
    {
     "data": {
      "text/plain": [
       "array([[44.,  0.,  0., ...,  0.,  0.,  0.],\n",
       "       [37.,  0.,  0., ...,  0.,  0.,  0.],\n",
       "       [35.,  0.,  0., ...,  0.,  0.,  0.],\n",
       "       ...,\n",
       "       [54.,  0.,  0., ...,  1.,  0.,  0.],\n",
       "       [44.,  0.,  0., ...,  0.,  0.,  0.],\n",
       "       [59.,  0.,  0., ...,  0.,  1.,  0.]])"
      ]
     },
     "execution_count": 35,
     "metadata": {},
     "output_type": "execute_result"
    }
   ],
   "source": [
    "from sklearn.feature_extraction import DictVectorizer\n",
    " \n",
    "xTrainRecords = train.X.to_dict(\"records\")\n",
    "vectorizer = DictVectorizer(sparse=False)\n",
    "xTrainEncoded = vectorizer.fit_transform(xTrainRecords)\n",
    "\n",
    "vectorizer.transform(test.X.to_dict(\"records\"))"
   ]
  },
  {
   "attachments": {},
   "cell_type": "markdown",
   "metadata": {},
   "source": [
    "### Step 3\n",
    "pipelining it"
   ]
  },
  {
   "cell_type": "code",
   "execution_count": 46,
   "metadata": {},
   "outputs": [
    {
     "ename": "NameError",
     "evalue": "name 'TreeClassifier' is not defined",
     "output_type": "error",
     "traceback": [
      "\u001b[1;31m---------------------------------------------------------------------------\u001b[0m",
      "\u001b[1;31mNameError\u001b[0m                                 Traceback (most recent call last)",
      "Cell \u001b[1;32mIn[46], line 7\u001b[0m\n\u001b[0;32m      2\u001b[0m \u001b[39mfrom\u001b[39;00m \u001b[39msklearn\u001b[39;00m\u001b[39m.\u001b[39;00m\u001b[39mpipeline\u001b[39;00m \u001b[39mimport\u001b[39;00m make_pipeline\n\u001b[0;32m      3\u001b[0m \u001b[39mimport\u001b[39;00m \u001b[39mTreeClassifers\u001b[39;00m\n\u001b[0;32m      5\u001b[0m pipeline \u001b[39m=\u001b[39m sk\u001b[39m.\u001b[39mpipeline\u001b[39m.\u001b[39mmake_pipeline(\n\u001b[0;32m      6\u001b[0m   DictVectorizer(),\n\u001b[1;32m----> 7\u001b[0m   TreeClassifier()\n\u001b[0;32m      8\u001b[0m )\n",
      "\u001b[1;31mNameError\u001b[0m: name 'TreeClassifier' is not defined"
     ]
    }
   ],
   "source": [
    "import sklearn as sk\n",
    "from sklearn.pipeline import make_pipeline\n",
    "import TreeClassifers\n",
    "  \n",
    "pipeline = sk.pipeline.make_pipeline(\n",
    "  DictVectorizer(),\n",
    "  TreeClassifier()\n",
    ")"
   ]
  }
 ],
 "metadata": {
  "kernelspec": {
   "display_name": "Python 3",
   "language": "python",
   "name": "python3"
  },
  "language_info": {
   "codemirror_mode": {
    "name": "ipython",
    "version": 3
   },
   "file_extension": ".py",
   "mimetype": "text/x-python",
   "name": "python",
   "nbconvert_exporter": "python",
   "pygments_lexer": "ipython3",
   "version": "3.10.7"
  },
  "orig_nbformat": 4
 },
 "nbformat": 4,
 "nbformat_minor": 2
}
