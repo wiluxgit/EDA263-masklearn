{
 "cells": [
  {
   "attachments": {},
   "cell_type": "markdown",
   "metadata": {},
   "source": [
    "# Task 1: Working with a dataset with categorical features"
   ]
  },
  {
   "attachments": {},
   "cell_type": "markdown",
   "metadata": {},
   "source": [
    "### Step 1, Reading the data"
   ]
  },
  {
   "cell_type": "code",
   "execution_count": 4,
   "metadata": {},
   "outputs": [
    {
     "data": {
      "text/html": [
       "<div>\n",
       "<style scoped>\n",
       "    .dataframe tbody tr th:only-of-type {\n",
       "        vertical-align: middle;\n",
       "    }\n",
       "\n",
       "    .dataframe tbody tr th {\n",
       "        vertical-align: top;\n",
       "    }\n",
       "\n",
       "    .dataframe thead th {\n",
       "        text-align: right;\n",
       "    }\n",
       "</style>\n",
       "<table border=\"1\" class=\"dataframe\">\n",
       "  <thead>\n",
       "    <tr style=\"text-align: right;\">\n",
       "      <th></th>\n",
       "      <th>opinion</th>\n",
       "      <th>text</th>\n",
       "    </tr>\n",
       "  </thead>\n",
       "  <tbody>\n",
       "    <tr>\n",
       "      <th>0</th>\n",
       "      <td>1/1</td>\n",
       "      <td>I'll only consume if I know what's inside it....</td>\n",
       "    </tr>\n",
       "    <tr>\n",
       "      <th>1</th>\n",
       "      <td>0/-1</td>\n",
       "      <td>It is easier to fool a million people than it...</td>\n",
       "    </tr>\n",
       "    <tr>\n",
       "      <th>2</th>\n",
       "      <td>0/0</td>\n",
       "      <td>NATURAL IMMUNITY  protected us since evolutio...</td>\n",
       "    </tr>\n",
       "    <tr>\n",
       "      <th>3</th>\n",
       "      <td>0/-1</td>\n",
       "      <td>NATURAL IMMUNITY  protected us since evolutio...</td>\n",
       "    </tr>\n",
       "    <tr>\n",
       "      <th>4</th>\n",
       "      <td>1/1/1/-1</td>\n",
       "      <td>The bigest sideffect of vaccines is fewer dea...</td>\n",
       "    </tr>\n",
       "  </tbody>\n",
       "</table>\n",
       "</div>"
      ],
      "text/plain": [
       "    opinion                                               text\n",
       "0       1/1   I'll only consume if I know what's inside it....\n",
       "1      0/-1   It is easier to fool a million people than it...\n",
       "2       0/0   NATURAL IMMUNITY  protected us since evolutio...\n",
       "3      0/-1   NATURAL IMMUNITY  protected us since evolutio...\n",
       "4  1/1/1/-1   The bigest sideffect of vaccines is fewer dea..."
      ]
     },
     "metadata": {},
     "output_type": "display_data"
    }
   ],
   "source": [
    "import pandas as pd\n",
    "import numpy as np\n",
    "\n",
    "class DataSet:\n",
    "    def __init__(self, RawY=None, X=None, Y=None, File=None):\n",
    "        self.RawY = RawY\n",
    "        self.X = X\n",
    "        self.Y = Y\n",
    "        self.File = File\n",
    "\n",
    "trainSet = DataSet(File=\"assets/a3_train_final.tsv\")\n",
    "testSet = DataSet(File=\"assets/a3_test.tsv\")\n",
    "datasets = [trainSet]\n",
    "\n",
    "for dset in datasets:\n",
    "    csvdat = pd.read_table(dset.File, names=['opinion', 'text'])\n",
    "    data_shuffled = csvdat.sample(frac=1.0, random_state=0)\n",
    "\n",
    "    display(csvdat.head())\n",
    "    \n",
    "    dset.X = csvdat.text\n",
    "    dset.RawY = csvdat.opinon"
   ]
  },
  {
   "cell_type": "code",
   "execution_count": 5,
   "metadata": {},
   "outputs": [
    {
     "ename": "AttributeError",
     "evalue": "module 'sklearn.feature_extraction' has no attribute 'TfidfVectorizer'",
     "output_type": "error",
     "traceback": [
      "\u001b[1;31m---------------------------------------------------------------------------\u001b[0m",
      "\u001b[1;31mAttributeError\u001b[0m                            Traceback (most recent call last)",
      "Cell \u001b[1;32mIn[5], line 7\u001b[0m\n\u001b[0;32m      3\u001b[0m \u001b[39mfrom\u001b[39;00m \u001b[39msklearn\u001b[39;00m\u001b[39m.\u001b[39;00m\u001b[39mpipeline\u001b[39;00m \u001b[39mimport\u001b[39;00m make_pipeline\n\u001b[0;32m      4\u001b[0m \u001b[39mfrom\u001b[39;00m \u001b[39msklearn\u001b[39;00m\u001b[39m.\u001b[39;00m\u001b[39mfeature_extraction\u001b[39;00m\u001b[39m.\u001b[39;00m\u001b[39mtext\u001b[39;00m \u001b[39mimport\u001b[39;00m CountVectorizer, TfidfVectorizer\n\u001b[0;32m      6\u001b[0m task1pipeline \u001b[39m=\u001b[39m sk\u001b[39m.\u001b[39mpipeline\u001b[39m.\u001b[39mmake_pipeline(\n\u001b[1;32m----> 7\u001b[0m   sk\u001b[39m.\u001b[39;49mfeature_extraction\u001b[39m.\u001b[39;49mTfidfVectorizer(sparse\u001b[39m=\u001b[39m\u001b[39mFalse\u001b[39;00m),\n\u001b[0;32m      8\u001b[0m   sk\u001b[39m.\u001b[39mtree\u001b[39m.\u001b[39mDecisionTreeClassifier()\n\u001b[0;32m      9\u001b[0m )\n",
      "\u001b[1;31mAttributeError\u001b[0m: module 'sklearn.feature_extraction' has no attribute 'TfidfVectorizer'"
     ]
    }
   ],
   "source": [
    "import sklearn as sk\n",
    "from sklearn import tree\n",
    "from sklearn.pipeline import make_pipeline\n",
    "from sklearn.feature_extraction.text import CountVectorizer, TfidfVectorizer\n",
    "\n",
    "task1pipeline = sk.pipeline.make_pipeline(\n",
    "  sk.feature_extraction.TfidfVectorizer(),\n",
    "  sk.tree.DecisionTreeClassifier()\n",
    ")"
   ]
  }
 ],
 "metadata": {
  "kernelspec": {
   "display_name": "Python 3",
   "language": "python",
   "name": "python3"
  },
  "language_info": {
   "codemirror_mode": {
    "name": "ipython",
    "version": 3
   },
   "file_extension": ".py",
   "mimetype": "text/x-python",
   "name": "python",
   "nbconvert_exporter": "python",
   "pygments_lexer": "ipython3",
   "version": "3.10.7"
  },
  "orig_nbformat": 4
 },
 "nbformat": 4,
 "nbformat_minor": 2
}
