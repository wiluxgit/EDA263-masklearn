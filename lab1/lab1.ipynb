{
 "cells": [
  {
   "attachments": {},
   "cell_type": "markdown",
   "metadata": {},
   "source": [
    "# Task 1 (A classification example: fetal heart condition diagnosis)\n",
    "Classification Example"
   ]
  },
  {
   "attachments": {},
   "cell_type": "markdown",
   "metadata": {},
   "source": [
    "### 1-1\n",
    "Reading data"
   ]
  },
  {
   "cell_type": "code",
   "execution_count": 37,
   "metadata": {},
   "outputs": [],
   "source": [
    "import pandas as pd\n",
    "from sklearn.model_selection import train_test_split\n",
    "  \n",
    "# Read the CSV file.\n",
    "data = pd.read_csv(\"assets/CTG.csv\", skiprows=1)\n",
    "\n",
    "# Select the relevant numerical columns.\n",
    "selected_cols = ['LB', 'AC', 'FM', 'UC', 'DL', 'DS', 'DP', 'ASTV', 'MSTV', 'ALTV',\n",
    "                 'MLTV', 'Width', 'Min', 'Max', 'Nmax', 'Nzeros', 'Mode', 'Mean',\n",
    "                 'Median', 'Variance', 'Tendency', 'NSP']\n",
    "data = data[selected_cols].dropna()\n",
    "\n",
    "# Shuffle the dataset.\n",
    "data_shuffled = data.sample(frac=1.0, random_state=0)\n",
    "\n",
    "# Split into input part X and output part Y.\n",
    "X = data_shuffled.drop('NSP', axis=1)\n",
    "\n",
    "# Map the diagnosis code to a human-readable label.\n",
    "def to_label(y):\n",
    "    return [None, 'normal', 'suspect', 'pathologic'][(int(y))]\n",
    "\n",
    "Y = data_shuffled['NSP'].apply(to_label)\n",
    "\n",
    "# Partition the data into training and test sets.\n",
    "Xtrain, Xtest, Ytrain, Ytest = train_test_split(X, Y, test_size=0.2, random_state=0)"
   ]
  },
  {
   "cell_type": "code",
   "execution_count": 38,
   "metadata": {},
   "outputs": [
    {
     "data": {
      "text/html": [
       "<div>\n",
       "<style scoped>\n",
       "    .dataframe tbody tr th:only-of-type {\n",
       "        vertical-align: middle;\n",
       "    }\n",
       "\n",
       "    .dataframe tbody tr th {\n",
       "        vertical-align: top;\n",
       "    }\n",
       "\n",
       "    .dataframe thead th {\n",
       "        text-align: right;\n",
       "    }\n",
       "</style>\n",
       "<table border=\"1\" class=\"dataframe\">\n",
       "  <thead>\n",
       "    <tr style=\"text-align: right;\">\n",
       "      <th></th>\n",
       "      <th>LB</th>\n",
       "      <th>AC</th>\n",
       "      <th>FM</th>\n",
       "      <th>UC</th>\n",
       "      <th>DL</th>\n",
       "      <th>DS</th>\n",
       "      <th>DP</th>\n",
       "      <th>ASTV</th>\n",
       "      <th>MSTV</th>\n",
       "      <th>ALTV</th>\n",
       "      <th>...</th>\n",
       "      <th>Width</th>\n",
       "      <th>Min</th>\n",
       "      <th>Max</th>\n",
       "      <th>Nmax</th>\n",
       "      <th>Nzeros</th>\n",
       "      <th>Mode</th>\n",
       "      <th>Mean</th>\n",
       "      <th>Median</th>\n",
       "      <th>Variance</th>\n",
       "      <th>Tendency</th>\n",
       "    </tr>\n",
       "  </thead>\n",
       "  <tbody>\n",
       "    <tr>\n",
       "      <th>1690</th>\n",
       "      <td>137.0</td>\n",
       "      <td>13.0</td>\n",
       "      <td>0.0</td>\n",
       "      <td>3.0</td>\n",
       "      <td>4.0</td>\n",
       "      <td>0.0</td>\n",
       "      <td>0.0</td>\n",
       "      <td>56.0</td>\n",
       "      <td>2.1</td>\n",
       "      <td>0.0</td>\n",
       "      <td>...</td>\n",
       "      <td>136.0</td>\n",
       "      <td>52.0</td>\n",
       "      <td>188.0</td>\n",
       "      <td>3.0</td>\n",
       "      <td>0.0</td>\n",
       "      <td>160.0</td>\n",
       "      <td>144.0</td>\n",
       "      <td>161.0</td>\n",
       "      <td>39.0</td>\n",
       "      <td>1.0</td>\n",
       "    </tr>\n",
       "    <tr>\n",
       "      <th>12</th>\n",
       "      <td>131.0</td>\n",
       "      <td>4.0</td>\n",
       "      <td>57.0</td>\n",
       "      <td>6.0</td>\n",
       "      <td>2.0</td>\n",
       "      <td>0.0</td>\n",
       "      <td>0.0</td>\n",
       "      <td>28.0</td>\n",
       "      <td>1.4</td>\n",
       "      <td>0.0</td>\n",
       "      <td>...</td>\n",
       "      <td>66.0</td>\n",
       "      <td>88.0</td>\n",
       "      <td>154.0</td>\n",
       "      <td>5.0</td>\n",
       "      <td>0.0</td>\n",
       "      <td>135.0</td>\n",
       "      <td>134.0</td>\n",
       "      <td>137.0</td>\n",
       "      <td>7.0</td>\n",
       "      <td>1.0</td>\n",
       "    </tr>\n",
       "    <tr>\n",
       "      <th>950</th>\n",
       "      <td>142.0</td>\n",
       "      <td>4.0</td>\n",
       "      <td>0.0</td>\n",
       "      <td>6.0</td>\n",
       "      <td>0.0</td>\n",
       "      <td>0.0</td>\n",
       "      <td>0.0</td>\n",
       "      <td>34.0</td>\n",
       "      <td>1.1</td>\n",
       "      <td>0.0</td>\n",
       "      <td>...</td>\n",
       "      <td>67.0</td>\n",
       "      <td>94.0</td>\n",
       "      <td>161.0</td>\n",
       "      <td>5.0</td>\n",
       "      <td>1.0</td>\n",
       "      <td>151.0</td>\n",
       "      <td>146.0</td>\n",
       "      <td>149.0</td>\n",
       "      <td>8.0</td>\n",
       "      <td>1.0</td>\n",
       "    </tr>\n",
       "    <tr>\n",
       "      <th>480</th>\n",
       "      <td>140.0</td>\n",
       "      <td>0.0</td>\n",
       "      <td>0.0</td>\n",
       "      <td>1.0</td>\n",
       "      <td>0.0</td>\n",
       "      <td>0.0</td>\n",
       "      <td>0.0</td>\n",
       "      <td>60.0</td>\n",
       "      <td>0.8</td>\n",
       "      <td>32.0</td>\n",
       "      <td>...</td>\n",
       "      <td>120.0</td>\n",
       "      <td>79.0</td>\n",
       "      <td>199.0</td>\n",
       "      <td>9.0</td>\n",
       "      <td>0.0</td>\n",
       "      <td>141.0</td>\n",
       "      <td>141.0</td>\n",
       "      <td>142.0</td>\n",
       "      <td>3.0</td>\n",
       "      <td>0.0</td>\n",
       "    </tr>\n",
       "    <tr>\n",
       "      <th>25</th>\n",
       "      <td>124.0</td>\n",
       "      <td>0.0</td>\n",
       "      <td>0.0</td>\n",
       "      <td>0.0</td>\n",
       "      <td>0.0</td>\n",
       "      <td>0.0</td>\n",
       "      <td>0.0</td>\n",
       "      <td>86.0</td>\n",
       "      <td>0.3</td>\n",
       "      <td>72.0</td>\n",
       "      <td>...</td>\n",
       "      <td>12.0</td>\n",
       "      <td>118.0</td>\n",
       "      <td>130.0</td>\n",
       "      <td>1.0</td>\n",
       "      <td>0.0</td>\n",
       "      <td>124.0</td>\n",
       "      <td>124.0</td>\n",
       "      <td>125.0</td>\n",
       "      <td>0.0</td>\n",
       "      <td>0.0</td>\n",
       "    </tr>\n",
       "  </tbody>\n",
       "</table>\n",
       "<p>5 rows × 21 columns</p>\n",
       "</div>"
      ],
      "text/plain": [
       "         LB    AC    FM   UC   DL   DS   DP  ASTV  MSTV  ALTV  ...  Width  \\\n",
       "1690  137.0  13.0   0.0  3.0  4.0  0.0  0.0  56.0   2.1   0.0  ...  136.0   \n",
       "12    131.0   4.0  57.0  6.0  2.0  0.0  0.0  28.0   1.4   0.0  ...   66.0   \n",
       "950   142.0   4.0   0.0  6.0  0.0  0.0  0.0  34.0   1.1   0.0  ...   67.0   \n",
       "480   140.0   0.0   0.0  1.0  0.0  0.0  0.0  60.0   0.8  32.0  ...  120.0   \n",
       "25    124.0   0.0   0.0  0.0  0.0  0.0  0.0  86.0   0.3  72.0  ...   12.0   \n",
       "\n",
       "        Min    Max  Nmax  Nzeros   Mode   Mean  Median  Variance  Tendency  \n",
       "1690   52.0  188.0   3.0     0.0  160.0  144.0   161.0      39.0       1.0  \n",
       "12     88.0  154.0   5.0     0.0  135.0  134.0   137.0       7.0       1.0  \n",
       "950    94.0  161.0   5.0     1.0  151.0  146.0   149.0       8.0       1.0  \n",
       "480    79.0  199.0   9.0     0.0  141.0  141.0   142.0       3.0       0.0  \n",
       "25    118.0  130.0   1.0     0.0  124.0  124.0   125.0       0.0       0.0  \n",
       "\n",
       "[5 rows x 21 columns]"
      ]
     },
     "execution_count": 38,
     "metadata": {},
     "output_type": "execute_result"
    }
   ],
   "source": [
    "Xtrain.head()"
   ]
  },
  {
   "attachments": {},
   "cell_type": "markdown",
   "metadata": {},
   "source": [
    "### 1-2\n",
    "Baseline Classifers"
   ]
  },
  {
   "cell_type": "code",
   "execution_count": 39,
   "metadata": {},
   "outputs": [],
   "source": [
    "import sklearn as SK\n",
    "from sklearn.model_selection import cross_val_score\n",
    "from sklearn import dummy\n",
    "from sklearn import tree\n",
    "from sklearn import ensemble\n",
    "from sklearn import linear_model\n",
    "from sklearn import neural_network\n",
    "import warnings\n",
    "from statistics import mean\n",
    "\n",
    "def evalAndAppendClassifier(writedict, clf, suffix=\"\", normalizeX=False, Xin=None, Yin=None):\n",
    "    if Xin is None:\n",
    "        Xin = Xtrain\n",
    "    if Yin is None:\n",
    "        Yin = Ytrain\n",
    "    if normalizeX:\n",
    "        Xin = SK.preprocessing.normalize(Xin)\n",
    "    with warnings.catch_warnings():\n",
    "        warnings.filterwarnings('error', category=SK.exceptions.ConvergenceWarning)\n",
    "        warnings.filterwarnings('error', category=SK.exceptions.FitFailedWarning)\n",
    "        try:\n",
    "            scores = cross_val_score(clf, Xin, Yin)\n",
    "            avgScore = mean(scores)\n",
    "        except (TypeError, ValueError, Warning) as e:\n",
    "            avgScore = f\"Could not compute ({type(e).__name__})\"\n",
    "    methodName = f\"{type(clf).__name__}\"\n",
    "    if len(suffix)>0:\n",
    "        methodName += f\" ({suffix})\"\n",
    "    #print(f\"{methodName} => {avgScore}\")\n",
    "    writedict[methodName] = avgScore\n"
   ]
  },
  {
   "cell_type": "code",
   "execution_count": 40,
   "metadata": {},
   "outputs": [
    {
     "name": "stdout",
     "output_type": "stream",
     "text": [
      "DummyClassifier (most frequent) -> accuracy=0.7805882352941177\n"
     ]
    }
   ],
   "source": [
    "dummyDict = {}\n",
    "evalAndAppendClassifier(dummyDict, SK.dummy.DummyClassifier(strategy=\"most_frequent\"), suffix=\"most frequent\")\n",
    "for k,v in dummyDict.items():\n",
    "    print(f\"{k} -> accuracy={v}\")"
   ]
  },
  {
   "attachments": {},
   "cell_type": "markdown",
   "metadata": {},
   "source": [
    "### 1-3\n",
    "Testing Different Classifiers"
   ]
  },
  {
   "cell_type": "code",
   "execution_count": 41,
   "metadata": {},
   "outputs": [],
   "source": [
    "crossAccuracy = {}"
   ]
  },
  {
   "cell_type": "code",
   "execution_count": 42,
   "metadata": {},
   "outputs": [],
   "source": [
    "evalAndAppendClassifier(crossAccuracy, SK.dummy.DummyClassifier(strategy=\"most_frequent\"), suffix=\"most frequent\")"
   ]
  },
  {
   "cell_type": "code",
   "execution_count": 43,
   "metadata": {},
   "outputs": [],
   "source": [
    "evalAndAppendClassifier(crossAccuracy, SK.tree.DecisionTreeClassifier())\n",
    "evalAndAppendClassifier(crossAccuracy, SK.tree.DecisionTreeClassifier(max_depth=1), suffix=\"depth:1\")\n",
    "evalAndAppendClassifier(crossAccuracy, SK.tree.DecisionTreeClassifier(max_depth=2), suffix=\"depth:2\")\n",
    "evalAndAppendClassifier(crossAccuracy, SK.tree.DecisionTreeClassifier(max_depth=4), suffix=\"depth:4\")\n",
    "evalAndAppendClassifier(crossAccuracy, SK.tree.DecisionTreeClassifier(max_depth=8), suffix=\"depth:8\")\n",
    "evalAndAppendClassifier(crossAccuracy, SK.tree.DecisionTreeClassifier(max_depth=16), suffix=\"depth:16\")\n",
    "evalAndAppendClassifier(crossAccuracy, SK.tree.DecisionTreeClassifier(max_depth=32), suffix=\"depth:32\")"
   ]
  },
  {
   "cell_type": "code",
   "execution_count": 44,
   "metadata": {},
   "outputs": [],
   "source": [
    "#evalAndAppendClassifier(classifierMethods, SK.ensemble.RandomForestClassifier())\n",
    "evalAndAppendClassifier(crossAccuracy, SK.ensemble.RandomForestClassifier(max_features=\"sqrt\"), suffix=\"max:sqrt\")\n",
    "evalAndAppendClassifier(crossAccuracy, SK.ensemble.RandomForestClassifier(max_features=\"log2\"), suffix=\"max:log2\")\n",
    "evalAndAppendClassifier(crossAccuracy, SK.ensemble.RandomForestClassifier(max_features=None), suffix=\"max:None\")\n",
    "evalAndAppendClassifier(crossAccuracy, SK.ensemble.RandomForestClassifier(n_estimators=10), suffix=\"estimators:10\")\n",
    "evalAndAppendClassifier(crossAccuracy, SK.ensemble.RandomForestClassifier(n_estimators=100), suffix=\"estimators:100\")\n",
    "evalAndAppendClassifier(crossAccuracy, SK.ensemble.RandomForestClassifier(n_estimators=1000), suffix=\"estimators:1000\")"
   ]
  },
  {
   "cell_type": "code",
   "execution_count": 45,
   "metadata": {},
   "outputs": [],
   "source": [
    "evalAndAppendClassifier(crossAccuracy, SK.ensemble.GradientBoostingClassifier())\n",
    "evalAndAppendClassifier(crossAccuracy, SK.ensemble.GradientBoostingClassifier(max_depth=1), suffix=\"depth:1\")\n",
    "evalAndAppendClassifier(crossAccuracy, SK.ensemble.GradientBoostingClassifier(max_depth=3), suffix=\"depth:3\")\n",
    "evalAndAppendClassifier(crossAccuracy, SK.ensemble.GradientBoostingClassifier(max_depth=6), suffix=\"depth:6\")\n",
    "evalAndAppendClassifier(crossAccuracy, SK.ensemble.GradientBoostingClassifier(criterion=\"squared_error\"), suffix=\"criterion:squared_error\")"
   ]
  },
  {
   "cell_type": "code",
   "execution_count": 46,
   "metadata": {},
   "outputs": [],
   "source": [
    "evalAndAppendClassifier(crossAccuracy, SK.linear_model.Perceptron())"
   ]
  },
  {
   "cell_type": "code",
   "execution_count": 47,
   "metadata": {},
   "outputs": [],
   "source": [
    "evalAndAppendClassifier(crossAccuracy, SK.linear_model.LogisticRegression(), normalizeX=True)"
   ]
  },
  {
   "cell_type": "code",
   "execution_count": 48,
   "metadata": {},
   "outputs": [],
   "source": [
    "evalAndAppendClassifier(crossAccuracy, SK.svm.LinearSVC(), normalizeX=True)"
   ]
  },
  {
   "cell_type": "code",
   "execution_count": 49,
   "metadata": {},
   "outputs": [],
   "source": [
    "evalAndAppendClassifier(crossAccuracy, SK.neural_network.MLPClassifier())\n",
    "evalAndAppendClassifier(crossAccuracy, SK.neural_network.MLPClassifier(hidden_layer_sizes=(20,)), suffix=\"20 neurons\")\n",
    "evalAndAppendClassifier(crossAccuracy, SK.neural_network.MLPClassifier(hidden_layer_sizes=(35,)), suffix=\"35 neurons\")\n",
    "evalAndAppendClassifier(crossAccuracy, SK.neural_network.MLPClassifier(hidden_layer_sizes=(50,)), suffix=\"50 neurons\")\n",
    "evalAndAppendClassifier(crossAccuracy, SK.neural_network.MLPClassifier(hidden_layer_sizes=(200,)), suffix=\"200 neurons\")\n",
    "evalAndAppendClassifier(crossAccuracy, SK.neural_network.MLPClassifier(hidden_layer_sizes=[100,50,10,50,100]), suffix=\"100-50-10-50-100\")\n",
    "evalAndAppendClassifier(crossAccuracy, SK.neural_network.MLPClassifier(hidden_layer_sizes=[100,50,100]), suffix=\"100-50-100\")\n",
    "evalAndAppendClassifier(crossAccuracy, SK.neural_network.MLPClassifier(hidden_layer_sizes=[100]), suffix=\"1 hidden\")"
   ]
  },
  {
   "cell_type": "code",
   "execution_count": 50,
   "metadata": {},
   "outputs": [
    {
     "name": "stdout",
     "output_type": "stream",
     "text": [
      "GradientBoostingClassifier (depth:6)                 -> 0.9511764705882353\n",
      "GradientBoostingClassifier (depth:3)                 -> 0.9494117647058823\n",
      "GradientBoostingClassifier                           -> 0.9488235294117647\n",
      "GradientBoostingClassifier (criterion:squared_error) -> 0.9482352941176471\n",
      "RandomForestClassifier (max:sqrt)                    -> 0.9429411764705883\n",
      "RandomForestClassifier (max:log2)                    -> 0.9411764705882353\n",
      "RandomForestClassifier (estimators:1000)             -> 0.9411764705882353\n",
      "RandomForestClassifier (estimators:100)              -> 0.9388235294117647\n",
      "RandomForestClassifier (max:None)                    -> 0.9364705882352942\n",
      "RandomForestClassifier (estimators:10)               -> 0.9364705882352942\n",
      "GradientBoostingClassifier (depth:1)                 -> 0.9341176470588235\n",
      "DecisionTreeClassifier (depth:8)                     -> 0.9335294117647058\n",
      "DecisionTreeClassifier (depth:32)                    -> 0.9241176470588235\n",
      "DecisionTreeClassifier                               -> 0.9235294117647058\n",
      "DecisionTreeClassifier (depth:4)                     -> 0.9205882352941177\n",
      "DecisionTreeClassifier (depth:16)                    -> 0.9205882352941176\n",
      "MLPClassifier (1 hidden)                             -> 0.8858823529411765\n",
      "MLPClassifier (35 neurons)                           -> 0.8847058823529412\n",
      "DecisionTreeClassifier (depth:2)                     -> 0.8805882352941177\n",
      "MLPClassifier (200 neurons)                          -> 0.8758823529411764\n",
      "MLPClassifier (100-50-10-50-100)                     -> 0.8752941176470589\n",
      "MLPClassifier (50 neurons)                           -> 0.8711764705882353\n",
      "MLPClassifier                                        -> 0.8694117647058823\n",
      "MLPClassifier (100-50-100)                           -> 0.8670588235294118\n",
      "LinearSVC                                            -> 0.8352941176470589\n",
      "Perceptron                                           -> 0.8252941176470588\n",
      "DecisionTreeClassifier (depth:1)                     -> 0.8164705882352942\n",
      "LogisticRegression                                   -> 0.8005882352941177\n",
      "DummyClassifier (most frequent)                      -> 0.7805882352941177\n",
      "MLPClassifier (20 neurons)                           -> Could not compute (FitFailedWarning)\n"
     ]
    }
   ],
   "source": [
    "def accuracyFixer(kv):\n",
    "    k, v = kv\n",
    "    if isinstance(v, int) or isinstance(v, float) :\n",
    "        return v\n",
    "    else:\n",
    "        return 0\n",
    "\n",
    "def printClassifiers(classifiers):\n",
    "    maxKeyStrLen = max([len(x) for x in classifiers.keys()])\n",
    "\n",
    "    for k,v in sorted(classifiers.items(), key=accuracyFixer, reverse=True):\n",
    "        kf = f\"{{:<{maxKeyStrLen}}}\".format(k)\n",
    "        print(f\"{kf} -> {v}\")\n",
    "\n",
    "printClassifiers(crossAccuracy)"
   ]
  },
  {
   "attachments": {},
   "cell_type": "markdown",
   "metadata": {},
   "source": [
    "### 1-4\n",
    "Choosing GradientBoostingClassifier as it consitently gives good cross validation results (~0.945).\n",
    "\n",
    "Using default Hyperparameters as the different tuning made little difference."
   ]
  },
  {
   "cell_type": "code",
   "execution_count": 51,
   "metadata": {},
   "outputs": [
    {
     "name": "stdout",
     "output_type": "stream",
     "text": [
      "Test accurracy = 0.9295774647887324\n"
     ]
    }
   ],
   "source": [
    "from sklearn.metrics import accuracy_score\n",
    "  \n",
    "clf = SK.ensemble.GradientBoostingClassifier()\n",
    "\n",
    "# Test results\n",
    "clf.fit(Xtrain, Ytrain)\n",
    "Yguess = clf.predict(Xtest)\n",
    "print(f\"Test accurracy = {accuracy_score(Ytest, Yguess)}\")"
   ]
  },
  {
   "attachments": {},
   "cell_type": "markdown",
   "metadata": {},
   "source": [
    "The test set gave a accuracy of ~0.930.\n",
    "\n",
    "Thus we can conclude this Gradient Boosting is a relatively good classifier for the data."
   ]
  },
  {
   "attachments": {},
   "cell_type": "markdown",
   "metadata": {},
   "source": [
    "### Task 2\n",
    "Treeclassifier"
   ]
  },
  {
   "cell_type": "code",
   "execution_count": 52,
   "metadata": {},
   "outputs": [
    {
     "name": "stderr",
     "output_type": "stream",
     "text": [
      "C:\\Users\\Ananas\\AppData\\Local\\Temp\\ipykernel_14768\\1776309227.py:5: MatplotlibDeprecationWarning: The seaborn styles shipped by Matplotlib are deprecated since 3.6, as they no longer correspond to the styles shipped by seaborn. However, they will remain available as 'seaborn-v0_8-<style>'. Alternatively, directly use the seaborn API instead.\n",
      "  plt.style.use('seaborn')\n"
     ]
    }
   ],
   "source": [
    "import TreeClassifers\n",
    "\n",
    "import matplotlib.pyplot as plt\n",
    "%config InlineBackend.figure_format = 'svg' \n",
    "plt.style.use('seaborn')\n",
    "%matplotlib inline  "
   ]
  },
  {
   "attachments": {},
   "cell_type": "markdown",
   "metadata": {},
   "source": [
    "Hyperparamter tuning"
   ]
  },
  {
   "cell_type": "code",
   "execution_count": 53,
   "metadata": {},
   "outputs": [],
   "source": [
    "depths = [1,2,4,8,16,32,64]\n",
    "treeCrossAccuracy = {}\n",
    "clfs = {}\n",
    "\n",
    "for d in depths:\n",
    "    clfs[d] = TreeClassifier(max_depth=d)\n",
    "    evalAndAppendClassifier(treeCrossAccuracy, clfs[d], suffix=f\"depth:{d}\")"
   ]
  },
  {
   "cell_type": "code",
   "execution_count": 54,
   "metadata": {},
   "outputs": [
    {
     "name": "stdout",
     "output_type": "stream",
     "text": [
      "TreeClassifier (depth:16) -> 0.9123529411764706\n",
      "TreeClassifier (depth:4)  -> 0.9105882352941176\n",
      "TreeClassifier (depth:8)  -> 0.91\n",
      "TreeClassifier (depth:32) -> 0.8994117647058824\n",
      "TreeClassifier (depth:2)  -> 0.8911764705882353\n",
      "TreeClassifier (depth:64) -> 0.89\n",
      "TreeClassifier (depth:1)  -> 0.831764705882353\n",
      "\n",
      "Visual Tree when depth=4\n"
     ]
    },
    {
     "data": {
      "image/svg+xml": "<?xml version=\"1.0\" encoding=\"UTF-8\" standalone=\"no\"?>\n<!DOCTYPE svg PUBLIC \"-//W3C//DTD SVG 1.1//EN\"\n \"http://www.w3.org/Graphics/SVG/1.1/DTD/svg11.dtd\">\n<!-- Generated by graphviz version 7.1.0 (20230121.1956)\n -->\n<!-- Pages: 1 -->\n<svg width=\"1163pt\" height=\"392pt\"\n viewBox=\"0.00 0.00 1163.09 392.00\" xmlns=\"http://www.w3.org/2000/svg\" xmlns:xlink=\"http://www.w3.org/1999/xlink\">\n<g id=\"graph0\" class=\"graph\" transform=\"scale(1 1) rotate(0) translate(4 388)\">\n<polygon fill=\"white\" stroke=\"none\" points=\"-4,4 -4,-388 1159.09,-388 1159.09,4 -4,4\"/>\n<!-- 0 -->\n<g id=\"node1\" class=\"node\">\n<title>0</title>\n<ellipse fill=\"lightgrey\" stroke=\"black\" cx=\"35.75\" cy=\"-18\" rx=\"36\" ry=\"18\"/>\n<text text-anchor=\"middle\" x=\"35.75\" y=\"-14.3\" font-family=\"Times New Roman,serif\" font-size=\"14.00\">normal</text>\n</g>\n<!-- 1 -->\n<g id=\"node2\" class=\"node\">\n<title>1</title>\n<ellipse fill=\"lightgrey\" stroke=\"black\" cx=\"127.75\" cy=\"-18\" rx=\"38.19\" ry=\"18\"/>\n<text text-anchor=\"middle\" x=\"127.75\" y=\"-14.3\" font-family=\"Times New Roman,serif\" font-size=\"14.00\">suspect</text>\n</g>\n<!-- 2 -->\n<g id=\"node3\" class=\"node\">\n<title>2</title>\n<path fill=\"yellow\" stroke=\"black\" d=\"M110.75,-123C110.75,-123 52.75,-123 52.75,-123 46.75,-123 40.75,-117 40.75,-111 40.75,-111 40.75,-99 40.75,-99 40.75,-93 46.75,-87 52.75,-87 52.75,-87 110.75,-87 110.75,-87 116.75,-87 122.75,-93 122.75,-99 122.75,-99 122.75,-111 122.75,-111 122.75,-117 116.75,-123 110.75,-123\"/>\n<text text-anchor=\"middle\" x=\"81.75\" y=\"-101.3\" font-family=\"Times New Roman,serif\" font-size=\"14.00\">ALTV &gt; 7?</text>\n</g>\n<!-- 2&#45;&gt;0 -->\n<g id=\"edge1\" class=\"edge\">\n<title>2&#45;&gt;0</title>\n<path fill=\"none\" stroke=\"black\" d=\"M72.44,-86.8C66.1,-75.09 57.58,-59.34 50.34,-45.97\"/>\n<polygon fill=\"black\" stroke=\"black\" points=\"53.44,-44.35 45.61,-37.22 47.29,-47.68 53.44,-44.35\"/>\n<text text-anchor=\"middle\" x=\"76.75\" y=\"-57.8\" font-family=\"Times New Roman,serif\" font-size=\"14.00\">False</text>\n</g>\n<!-- 2&#45;&gt;1 -->\n<g id=\"edge2\" class=\"edge\">\n<title>2&#45;&gt;1</title>\n<path fill=\"none\" stroke=\"black\" d=\"M91.06,-86.8C97.39,-75.09 105.91,-59.34 113.15,-45.97\"/>\n<polygon fill=\"black\" stroke=\"black\" points=\"116.21,-47.68 117.89,-37.22 110.05,-44.35 116.21,-47.68\"/>\n<text text-anchor=\"middle\" x=\"121.25\" y=\"-57.8\" font-family=\"Times New Roman,serif\" font-size=\"14.00\">True</text>\n</g>\n<!-- 3 -->\n<g id=\"node4\" class=\"node\">\n<title>3</title>\n<ellipse fill=\"lightgrey\" stroke=\"black\" cx=\"189.75\" cy=\"-105\" rx=\"48.99\" ry=\"18\"/>\n<text text-anchor=\"middle\" x=\"189.75\" y=\"-101.3\" font-family=\"Times New Roman,serif\" font-size=\"14.00\">pathologic</text>\n</g>\n<!-- 4 -->\n<g id=\"node5\" class=\"node\">\n<title>4</title>\n<path fill=\"yellow\" stroke=\"black\" d=\"M227.25,-210C227.25,-210 152.25,-210 152.25,-210 146.25,-210 140.25,-204 140.25,-198 140.25,-198 140.25,-186 140.25,-186 140.25,-180 146.25,-174 152.25,-174 152.25,-174 227.25,-174 227.25,-174 233.25,-174 239.25,-180 239.25,-186 239.25,-186 239.25,-198 239.25,-198 239.25,-204 233.25,-210 227.25,-210\"/>\n<text text-anchor=\"middle\" x=\"189.75\" y=\"-188.3\" font-family=\"Times New Roman,serif\" font-size=\"14.00\">ASTV &gt; 79.5?</text>\n</g>\n<!-- 4&#45;&gt;2 -->\n<g id=\"edge3\" class=\"edge\">\n<title>4&#45;&gt;2</title>\n<path fill=\"none\" stroke=\"black\" d=\"M167.63,-173.59C151.76,-161.1 130.16,-144.11 112.6,-130.28\"/>\n<polygon fill=\"black\" stroke=\"black\" points=\"115.05,-127.75 105.02,-124.32 110.72,-133.25 115.05,-127.75\"/>\n<text text-anchor=\"middle\" x=\"157.75\" y=\"-144.8\" font-family=\"Times New Roman,serif\" font-size=\"14.00\">False</text>\n</g>\n<!-- 4&#45;&gt;3 -->\n<g id=\"edge4\" class=\"edge\">\n<title>4&#45;&gt;3</title>\n<path fill=\"none\" stroke=\"black\" d=\"M189.75,-173.8C189.75,-162.58 189.75,-147.67 189.75,-134.69\"/>\n<polygon fill=\"black\" stroke=\"black\" points=\"193.25,-134.98 189.75,-124.98 186.25,-134.98 193.25,-134.98\"/>\n<text text-anchor=\"middle\" x=\"203.25\" y=\"-144.8\" font-family=\"Times New Roman,serif\" font-size=\"14.00\">True</text>\n</g>\n<!-- 5 -->\n<g id=\"node6\" class=\"node\">\n<title>5</title>\n<ellipse fill=\"lightgrey\" stroke=\"black\" cx=\"291.75\" cy=\"-105\" rx=\"36\" ry=\"18\"/>\n<text text-anchor=\"middle\" x=\"291.75\" y=\"-101.3\" font-family=\"Times New Roman,serif\" font-size=\"14.00\">normal</text>\n</g>\n<!-- 6 -->\n<g id=\"node7\" class=\"node\">\n<title>6</title>\n<ellipse fill=\"lightgrey\" stroke=\"black\" cx=\"393.75\" cy=\"-105\" rx=\"48.99\" ry=\"18\"/>\n<text text-anchor=\"middle\" x=\"393.75\" y=\"-101.3\" font-family=\"Times New Roman,serif\" font-size=\"14.00\">pathologic</text>\n</g>\n<!-- 7 -->\n<g id=\"node8\" class=\"node\">\n<title>7</title>\n<path fill=\"yellow\" stroke=\"black\" d=\"M428.75,-210C428.75,-210 336.75,-210 336.75,-210 330.75,-210 324.75,-204 324.75,-198 324.75,-198 324.75,-186 324.75,-186 324.75,-180 330.75,-174 336.75,-174 336.75,-174 428.75,-174 428.75,-174 434.75,-174 440.75,-180 440.75,-186 440.75,-186 440.75,-198 440.75,-198 440.75,-204 434.75,-210 428.75,-210\"/>\n<text text-anchor=\"middle\" x=\"382.75\" y=\"-188.3\" font-family=\"Times New Roman,serif\" font-size=\"14.00\">Tendency &gt; &#45;0.5?</text>\n</g>\n<!-- 7&#45;&gt;5 -->\n<g id=\"edge5\" class=\"edge\">\n<title>7&#45;&gt;5</title>\n<path fill=\"none\" stroke=\"black\" d=\"M364.33,-173.8C350.61,-160.98 331.73,-143.35 316.66,-129.27\"/>\n<polygon fill=\"black\" stroke=\"black\" points=\"319.1,-126.76 309.4,-122.49 314.32,-131.88 319.1,-126.76\"/>\n<text text-anchor=\"middle\" x=\"357.75\" y=\"-144.8\" font-family=\"Times New Roman,serif\" font-size=\"14.00\">False</text>\n</g>\n<!-- 7&#45;&gt;6 -->\n<g id=\"edge6\" class=\"edge\">\n<title>7&#45;&gt;6</title>\n<path fill=\"none\" stroke=\"black\" d=\"M384.97,-173.8C386.42,-162.58 388.35,-147.67 390.03,-134.69\"/>\n<polygon fill=\"black\" stroke=\"black\" points=\"393.48,-135.33 391.29,-124.97 386.54,-134.44 393.48,-135.33\"/>\n<text text-anchor=\"middle\" x=\"403.25\" y=\"-144.8\" font-family=\"Times New Roman,serif\" font-size=\"14.00\">True</text>\n</g>\n<!-- 8 -->\n<g id=\"node9\" class=\"node\">\n<title>8</title>\n<path fill=\"yellow\" stroke=\"black\" d=\"M420.25,-297C420.25,-297 345.25,-297 345.25,-297 339.25,-297 333.25,-291 333.25,-285 333.25,-285 333.25,-273 333.25,-273 333.25,-267 339.25,-261 345.25,-261 345.25,-261 420.25,-261 420.25,-261 426.25,-261 432.25,-267 432.25,-273 432.25,-273 432.25,-285 432.25,-285 432.25,-291 426.25,-297 420.25,-297\"/>\n<text text-anchor=\"middle\" x=\"382.75\" y=\"-275.3\" font-family=\"Times New Roman,serif\" font-size=\"14.00\">ALTV &gt; 68.5?</text>\n</g>\n<!-- 8&#45;&gt;4 -->\n<g id=\"edge7\" class=\"edge\">\n<title>8&#45;&gt;4</title>\n<path fill=\"none\" stroke=\"black\" d=\"M343.22,-260.59C313.17,-247.36 271.63,-229.06 239.35,-214.84\"/>\n<polygon fill=\"black\" stroke=\"black\" points=\"241.16,-211.82 230.6,-210.99 238.34,-218.23 241.16,-211.82\"/>\n<text text-anchor=\"middle\" x=\"313.75\" y=\"-231.8\" font-family=\"Times New Roman,serif\" font-size=\"14.00\">False</text>\n</g>\n<!-- 8&#45;&gt;7 -->\n<g id=\"edge8\" class=\"edge\">\n<title>8&#45;&gt;7</title>\n<path fill=\"none\" stroke=\"black\" d=\"M382.75,-260.8C382.75,-249.58 382.75,-234.67 382.75,-221.69\"/>\n<polygon fill=\"black\" stroke=\"black\" points=\"386.25,-221.98 382.75,-211.98 379.25,-221.98 386.25,-221.98\"/>\n<text text-anchor=\"middle\" x=\"396.25\" y=\"-231.8\" font-family=\"Times New Roman,serif\" font-size=\"14.00\">True</text>\n</g>\n<!-- 9 -->\n<g id=\"node10\" class=\"node\">\n<title>9</title>\n<ellipse fill=\"lightgrey\" stroke=\"black\" cx=\"403.75\" cy=\"-18\" rx=\"38.19\" ry=\"18\"/>\n<text text-anchor=\"middle\" x=\"403.75\" y=\"-14.3\" font-family=\"Times New Roman,serif\" font-size=\"14.00\">suspect</text>\n</g>\n<!-- 10 -->\n<g id=\"node11\" class=\"node\">\n<title>10</title>\n<ellipse fill=\"lightgrey\" stroke=\"black\" cx=\"508.75\" cy=\"-18\" rx=\"48.99\" ry=\"18\"/>\n<text text-anchor=\"middle\" x=\"508.75\" y=\"-14.3\" font-family=\"Times New Roman,serif\" font-size=\"14.00\">pathologic</text>\n</g>\n<!-- 11 -->\n<g id=\"node12\" class=\"node\">\n<title>11</title>\n<path fill=\"yellow\" stroke=\"black\" d=\"M545.25,-123C545.25,-123 472.25,-123 472.25,-123 466.25,-123 460.25,-117 460.25,-111 460.25,-111 460.25,-99 460.25,-99 460.25,-93 466.25,-87 472.25,-87 472.25,-87 545.25,-87 545.25,-87 551.25,-87 557.25,-93 557.25,-99 557.25,-99 557.25,-111 557.25,-111 557.25,-117 551.25,-123 545.25,-123\"/>\n<text text-anchor=\"middle\" x=\"508.75\" y=\"-101.3\" font-family=\"Times New Roman,serif\" font-size=\"14.00\">Width &gt; 72.5?</text>\n</g>\n<!-- 11&#45;&gt;9 -->\n<g id=\"edge9\" class=\"edge\">\n<title>11&#45;&gt;9</title>\n<path fill=\"none\" stroke=\"black\" d=\"M487.25,-86.59C471,-73.44 448.58,-55.29 431.06,-41.11\"/>\n<polygon fill=\"black\" stroke=\"black\" points=\"433.56,-38.63 423.58,-35.06 429.15,-44.07 433.56,-38.63\"/>\n<text text-anchor=\"middle\" x=\"477.75\" y=\"-57.8\" font-family=\"Times New Roman,serif\" font-size=\"14.00\">False</text>\n</g>\n<!-- 11&#45;&gt;10 -->\n<g id=\"edge10\" class=\"edge\">\n<title>11&#45;&gt;10</title>\n<path fill=\"none\" stroke=\"black\" d=\"M508.75,-86.8C508.75,-75.58 508.75,-60.67 508.75,-47.69\"/>\n<polygon fill=\"black\" stroke=\"black\" points=\"512.25,-47.98 508.75,-37.98 505.25,-47.98 512.25,-47.98\"/>\n<text text-anchor=\"middle\" x=\"522.25\" y=\"-57.8\" font-family=\"Times New Roman,serif\" font-size=\"14.00\">True</text>\n</g>\n<!-- 12 -->\n<g id=\"node13\" class=\"node\">\n<title>12</title>\n<ellipse fill=\"lightgrey\" stroke=\"black\" cx=\"623.75\" cy=\"-18\" rx=\"48.99\" ry=\"18\"/>\n<text text-anchor=\"middle\" x=\"623.75\" y=\"-14.3\" font-family=\"Times New Roman,serif\" font-size=\"14.00\">pathologic</text>\n</g>\n<!-- 13 -->\n<g id=\"node14\" class=\"node\">\n<title>13</title>\n<ellipse fill=\"lightgrey\" stroke=\"black\" cx=\"725.75\" cy=\"-18\" rx=\"36\" ry=\"18\"/>\n<text text-anchor=\"middle\" x=\"725.75\" y=\"-14.3\" font-family=\"Times New Roman,serif\" font-size=\"14.00\">normal</text>\n</g>\n<!-- 14 -->\n<g id=\"node15\" class=\"node\">\n<title>14</title>\n<path fill=\"yellow\" stroke=\"black\" d=\"M674.25,-123C674.25,-123 587.25,-123 587.25,-123 581.25,-123 575.25,-117 575.25,-111 575.25,-111 575.25,-99 575.25,-99 575.25,-93 581.25,-87 587.25,-87 587.25,-87 674.25,-87 674.25,-87 680.25,-87 686.25,-93 686.25,-99 686.25,-99 686.25,-111 686.25,-111 686.25,-117 680.25,-123 674.25,-123\"/>\n<text text-anchor=\"middle\" x=\"630.75\" y=\"-101.3\" font-family=\"Times New Roman,serif\" font-size=\"14.00\">Variance &gt; 23.5?</text>\n</g>\n<!-- 14&#45;&gt;12 -->\n<g id=\"edge11\" class=\"edge\">\n<title>14&#45;&gt;12</title>\n<path fill=\"none\" stroke=\"black\" d=\"M629.33,-86.8C628.41,-75.58 627.18,-60.67 626.11,-47.69\"/>\n<polygon fill=\"black\" stroke=\"black\" points=\"629.62,-47.65 625.31,-37.98 622.64,-48.23 629.62,-47.65\"/>\n<text text-anchor=\"middle\" x=\"642.75\" y=\"-57.8\" font-family=\"Times New Roman,serif\" font-size=\"14.00\">False</text>\n</g>\n<!-- 14&#45;&gt;13 -->\n<g id=\"edge12\" class=\"edge\">\n<title>14&#45;&gt;13</title>\n<path fill=\"none\" stroke=\"black\" d=\"M649.97,-86.8C664.52,-73.78 684.63,-55.79 700.48,-41.61\"/>\n<polygon fill=\"black\" stroke=\"black\" points=\"702.53,-44.47 707.65,-35.19 697.87,-39.25 702.53,-44.47\"/>\n<text text-anchor=\"middle\" x=\"698.25\" y=\"-57.8\" font-family=\"Times New Roman,serif\" font-size=\"14.00\">True</text>\n</g>\n<!-- 15 -->\n<g id=\"node16\" class=\"node\">\n<title>15</title>\n<path fill=\"yellow\" stroke=\"black\" d=\"M575.75,-210C575.75,-210 505.75,-210 505.75,-210 499.75,-210 493.75,-204 493.75,-198 493.75,-198 493.75,-186 493.75,-186 493.75,-180 499.75,-174 505.75,-174 505.75,-174 575.75,-174 575.75,-174 581.75,-174 587.75,-180 587.75,-186 587.75,-186 587.75,-198 587.75,-198 587.75,-204 581.75,-210 575.75,-210\"/>\n<text text-anchor=\"middle\" x=\"540.75\" y=\"-188.3\" font-family=\"Times New Roman,serif\" font-size=\"14.00\">Max &gt; 220.5?</text>\n</g>\n<!-- 15&#45;&gt;11 -->\n<g id=\"edge13\" class=\"edge\">\n<title>15&#45;&gt;11</title>\n<path fill=\"none\" stroke=\"black\" d=\"M534.27,-173.8C529.96,-162.35 524.2,-147.06 519.25,-133.89\"/>\n<polygon fill=\"black\" stroke=\"black\" points=\"522.65,-133.01 515.86,-124.88 516.1,-135.48 522.65,-133.01\"/>\n<text text-anchor=\"middle\" x=\"541.75\" y=\"-144.8\" font-family=\"Times New Roman,serif\" font-size=\"14.00\">False</text>\n</g>\n<!-- 15&#45;&gt;14 -->\n<g id=\"edge14\" class=\"edge\">\n<title>15&#45;&gt;14</title>\n<path fill=\"none\" stroke=\"black\" d=\"M558.96,-173.8C571.93,-161.55 589.56,-144.9 604.1,-131.16\"/>\n<polygon fill=\"black\" stroke=\"black\" points=\"606.28,-133.92 611.15,-124.51 601.48,-128.83 606.28,-133.92\"/>\n<text text-anchor=\"middle\" x=\"605.25\" y=\"-144.8\" font-family=\"Times New Roman,serif\" font-size=\"14.00\">True</text>\n</g>\n<!-- 16 -->\n<g id=\"node17\" class=\"node\">\n<title>16</title>\n<ellipse fill=\"lightgrey\" stroke=\"black\" cx=\"817.75\" cy=\"-18\" rx=\"38.19\" ry=\"18\"/>\n<text text-anchor=\"middle\" x=\"817.75\" y=\"-14.3\" font-family=\"Times New Roman,serif\" font-size=\"14.00\">suspect</text>\n</g>\n<!-- 17 -->\n<g id=\"node18\" class=\"node\">\n<title>17</title>\n<ellipse fill=\"lightgrey\" stroke=\"black\" cx=\"909.75\" cy=\"-18\" rx=\"36\" ry=\"18\"/>\n<text text-anchor=\"middle\" x=\"909.75\" y=\"-14.3\" font-family=\"Times New Roman,serif\" font-size=\"14.00\">normal</text>\n</g>\n<!-- 18 -->\n<g id=\"node19\" class=\"node\">\n<title>18</title>\n<path fill=\"yellow\" stroke=\"black\" d=\"M880.75,-123C880.75,-123 824.75,-123 824.75,-123 818.75,-123 812.75,-117 812.75,-111 812.75,-111 812.75,-99 812.75,-99 812.75,-93 818.75,-87 824.75,-87 824.75,-87 880.75,-87 880.75,-87 886.75,-87 892.75,-93 892.75,-99 892.75,-99 892.75,-111 892.75,-111 892.75,-117 886.75,-123 880.75,-123\"/>\n<text text-anchor=\"middle\" x=\"852.75\" y=\"-101.3\" font-family=\"Times New Roman,serif\" font-size=\"14.00\">Width &gt; 9?</text>\n</g>\n<!-- 18&#45;&gt;16 -->\n<g id=\"edge15\" class=\"edge\">\n<title>18&#45;&gt;16</title>\n<path fill=\"none\" stroke=\"black\" d=\"M845.66,-86.8C840.92,-75.28 834.57,-59.86 829.13,-46.63\"/>\n<polygon fill=\"black\" stroke=\"black\" points=\"832.44,-45.49 825.4,-37.57 825.97,-48.15 832.44,-45.49\"/>\n<text text-anchor=\"middle\" x=\"852.75\" y=\"-57.8\" font-family=\"Times New Roman,serif\" font-size=\"14.00\">False</text>\n</g>\n<!-- 18&#45;&gt;17 -->\n<g id=\"edge16\" class=\"edge\">\n<title>18&#45;&gt;17</title>\n<path fill=\"none\" stroke=\"black\" d=\"M864.28,-86.8C872.34,-74.78 883.25,-58.51 892.37,-44.92\"/>\n<polygon fill=\"black\" stroke=\"black\" points=\"895.11,-47.11 897.77,-36.85 889.3,-43.21 895.11,-47.11\"/>\n<text text-anchor=\"middle\" x=\"898.25\" y=\"-57.8\" font-family=\"Times New Roman,serif\" font-size=\"14.00\">True</text>\n</g>\n<!-- 19 -->\n<g id=\"node20\" class=\"node\">\n<title>19</title>\n<ellipse fill=\"lightgrey\" stroke=\"black\" cx=\"1011.75\" cy=\"-18\" rx=\"48.99\" ry=\"18\"/>\n<text text-anchor=\"middle\" x=\"1011.75\" y=\"-14.3\" font-family=\"Times New Roman,serif\" font-size=\"14.00\">pathologic</text>\n</g>\n<!-- 20 -->\n<g id=\"node21\" class=\"node\">\n<title>20</title>\n<ellipse fill=\"lightgrey\" stroke=\"black\" cx=\"1116.75\" cy=\"-18\" rx=\"38.19\" ry=\"18\"/>\n<text text-anchor=\"middle\" x=\"1116.75\" y=\"-14.3\" font-family=\"Times New Roman,serif\" font-size=\"14.00\">suspect</text>\n</g>\n<!-- 21 -->\n<g id=\"node22\" class=\"node\">\n<title>21</title>\n<path fill=\"yellow\" stroke=\"black\" d=\"M1054.75,-123C1054.75,-123 968.75,-123 968.75,-123 962.75,-123 956.75,-117 956.75,-111 956.75,-111 956.75,-99 956.75,-99 956.75,-93 962.75,-87 968.75,-87 968.75,-87 1054.75,-87 1054.75,-87 1060.75,-87 1066.75,-93 1066.75,-99 1066.75,-99 1066.75,-111 1066.75,-111 1066.75,-117 1060.75,-123 1054.75,-123\"/>\n<text text-anchor=\"middle\" x=\"1011.75\" y=\"-101.3\" font-family=\"Times New Roman,serif\" font-size=\"14.00\">Median &gt; 128.5?</text>\n</g>\n<!-- 21&#45;&gt;19 -->\n<g id=\"edge17\" class=\"edge\">\n<title>21&#45;&gt;19</title>\n<path fill=\"none\" stroke=\"black\" d=\"M1011.75,-86.8C1011.75,-75.58 1011.75,-60.67 1011.75,-47.69\"/>\n<polygon fill=\"black\" stroke=\"black\" points=\"1015.25,-47.98 1011.75,-37.98 1008.25,-47.98 1015.25,-47.98\"/>\n<text text-anchor=\"middle\" x=\"1026.75\" y=\"-57.8\" font-family=\"Times New Roman,serif\" font-size=\"14.00\">False</text>\n</g>\n<!-- 21&#45;&gt;20 -->\n<g id=\"edge18\" class=\"edge\">\n<title>21&#45;&gt;20</title>\n<path fill=\"none\" stroke=\"black\" d=\"M1033.25,-86.59C1049.5,-73.44 1071.91,-55.29 1089.43,-41.11\"/>\n<polygon fill=\"black\" stroke=\"black\" points=\"1091.34,-44.07 1096.91,-35.06 1086.93,-38.63 1091.34,-44.07\"/>\n<text text-anchor=\"middle\" x=\"1083.25\" y=\"-57.8\" font-family=\"Times New Roman,serif\" font-size=\"14.00\">True</text>\n</g>\n<!-- 22 -->\n<g id=\"node23\" class=\"node\">\n<title>22</title>\n<path fill=\"yellow\" stroke=\"black\" d=\"M877.75,-210C877.75,-210 827.75,-210 827.75,-210 821.75,-210 815.75,-204 815.75,-198 815.75,-198 815.75,-186 815.75,-186 815.75,-180 821.75,-174 827.75,-174 827.75,-174 877.75,-174 877.75,-174 883.75,-174 889.75,-180 889.75,-186 889.75,-186 889.75,-198 889.75,-198 889.75,-204 883.75,-210 877.75,-210\"/>\n<text text-anchor=\"middle\" x=\"852.75\" y=\"-188.3\" font-family=\"Times New Roman,serif\" font-size=\"14.00\">DP &gt; 1.5?</text>\n</g>\n<!-- 22&#45;&gt;18 -->\n<g id=\"edge19\" class=\"edge\">\n<title>22&#45;&gt;18</title>\n<path fill=\"none\" stroke=\"black\" d=\"M852.75,-173.8C852.75,-162.58 852.75,-147.67 852.75,-134.69\"/>\n<polygon fill=\"black\" stroke=\"black\" points=\"856.25,-134.98 852.75,-124.98 849.25,-134.98 856.25,-134.98\"/>\n<text text-anchor=\"middle\" x=\"867.75\" y=\"-144.8\" font-family=\"Times New Roman,serif\" font-size=\"14.00\">False</text>\n</g>\n<!-- 22&#45;&gt;21 -->\n<g id=\"edge20\" class=\"edge\">\n<title>22&#45;&gt;21</title>\n<path fill=\"none\" stroke=\"black\" d=\"M885.31,-173.59C909.53,-160.64 942.81,-142.85 969.15,-128.77\"/>\n<polygon fill=\"black\" stroke=\"black\" points=\"970.73,-131.9 977.9,-124.1 967.43,-125.72 970.73,-131.9\"/>\n<text text-anchor=\"middle\" x=\"956.25\" y=\"-144.8\" font-family=\"Times New Roman,serif\" font-size=\"14.00\">True</text>\n</g>\n<!-- 23 -->\n<g id=\"node24\" class=\"node\">\n<title>23</title>\n<path fill=\"yellow\" stroke=\"black\" d=\"M578.75,-297C578.75,-297 502.75,-297 502.75,-297 496.75,-297 490.75,-291 490.75,-285 490.75,-285 490.75,-273 490.75,-273 490.75,-267 496.75,-261 502.75,-261 502.75,-261 578.75,-261 578.75,-261 584.75,-261 590.75,-267 590.75,-273 590.75,-273 590.75,-285 590.75,-285 590.75,-291 584.75,-297 578.75,-297\"/>\n<text text-anchor=\"middle\" x=\"540.75\" y=\"-275.3\" font-family=\"Times New Roman,serif\" font-size=\"14.00\">Mean &gt; 107.5?</text>\n</g>\n<!-- 23&#45;&gt;15 -->\n<g id=\"edge21\" class=\"edge\">\n<title>23&#45;&gt;15</title>\n<path fill=\"none\" stroke=\"black\" d=\"M540.75,-260.8C540.75,-249.58 540.75,-234.67 540.75,-221.69\"/>\n<polygon fill=\"black\" stroke=\"black\" points=\"544.25,-221.98 540.75,-211.98 537.25,-221.98 544.25,-221.98\"/>\n<text text-anchor=\"middle\" x=\"555.75\" y=\"-231.8\" font-family=\"Times New Roman,serif\" font-size=\"14.00\">False</text>\n</g>\n<!-- 23&#45;&gt;22 -->\n<g id=\"edge22\" class=\"edge\">\n<title>23&#45;&gt;22</title>\n<path fill=\"none\" stroke=\"black\" d=\"M591.22,-264.25C650.08,-248.21 746.65,-221.9 804.52,-206.14\"/>\n<polygon fill=\"black\" stroke=\"black\" points=\"805.37,-209.53 814.1,-203.53 803.53,-202.78 805.37,-209.53\"/>\n<text text-anchor=\"middle\" x=\"729.25\" y=\"-231.8\" font-family=\"Times New Roman,serif\" font-size=\"14.00\">True</text>\n</g>\n<!-- 24 -->\n<g id=\"node25\" class=\"node\">\n<title>24</title>\n<path fill=\"yellow\" stroke=\"black\" d=\"M482.25,-384C482.25,-384 405.25,-384 405.25,-384 399.25,-384 393.25,-378 393.25,-372 393.25,-372 393.25,-360 393.25,-360 393.25,-354 399.25,-348 405.25,-348 405.25,-348 482.25,-348 482.25,-348 488.25,-348 494.25,-354 494.25,-360 494.25,-360 494.25,-372 494.25,-372 494.25,-378 488.25,-384 482.25,-384\"/>\n<text text-anchor=\"middle\" x=\"443.75\" y=\"-362.3\" font-family=\"Times New Roman,serif\" font-size=\"14.00\">MSTV &gt; 0.45?</text>\n</g>\n<!-- 24&#45;&gt;8 -->\n<g id=\"edge23\" class=\"edge\">\n<title>24&#45;&gt;8</title>\n<path fill=\"none\" stroke=\"black\" d=\"M431.4,-347.8C422.94,-336.01 411.55,-320.14 401.92,-306.72\"/>\n<polygon fill=\"black\" stroke=\"black\" points=\"404.84,-304.78 396.16,-298.7 399.15,-308.86 404.84,-304.78\"/>\n<text text-anchor=\"middle\" x=\"432.75\" y=\"-318.8\" font-family=\"Times New Roman,serif\" font-size=\"14.00\">False</text>\n</g>\n<!-- 24&#45;&gt;23 -->\n<g id=\"edge24\" class=\"edge\">\n<title>24&#45;&gt;23</title>\n<path fill=\"none\" stroke=\"black\" d=\"M463.38,-347.8C477.48,-335.44 496.71,-318.59 512.47,-304.78\"/>\n<polygon fill=\"black\" stroke=\"black\" points=\"514.46,-307.69 519.68,-298.46 509.85,-302.42 514.46,-307.69\"/>\n<text text-anchor=\"middle\" x=\"512.25\" y=\"-318.8\" font-family=\"Times New Roman,serif\" font-size=\"14.00\">True</text>\n</g>\n</g>\n</svg>\n",
      "text/plain": [
       "<graphviz.graphs.Digraph at 0x1ef4a31b040>"
      ]
     },
     "execution_count": 54,
     "metadata": {},
     "output_type": "execute_result"
    }
   ],
   "source": [
    "printClassifiers(treeCrossAccuracy)\n",
    "\n",
    "clf4 = clfs[4]\n",
    "clf4.fit(Xtrain, Ytrain)\n",
    "print(\"\\nVisual Tree when depth=4\")\n",
    "clf4.draw_tree()"
   ]
  },
  {
   "attachments": {},
   "cell_type": "markdown",
   "metadata": {},
   "source": [
    "# Task 3\n",
    "Prediciting Apartment Prices"
   ]
  },
  {
   "cell_type": "code",
   "execution_count": 55,
   "metadata": {},
   "outputs": [],
   "source": [
    "# Read the CSV file using Pandas.\n",
    "alldata = pd.read_csv(\"assets/sberbank.csv\")\n",
    "\n",
    "# Convert the timestamp string to an integer representing the year.\n",
    "def get_year(timestamp):\n",
    "    return int(timestamp[:4])\n",
    "alldata['year'] = alldata.timestamp.apply(get_year)\n",
    "\n",
    "# Select the 9 input columns and the output column.\n",
    "selected_columns = ['price_doc', 'year', 'full_sq', 'life_sq', 'floor', 'num_room', 'kitch_sq', 'full_all']\n",
    "alldata = alldata[selected_columns]\n",
    "alldata = alldata.dropna()\n",
    "\n",
    "# Shuffle.\n",
    "alldata_shuffled = alldata.sample(frac=1.0, random_state=0)\n",
    "\n",
    "# Separate the input and output columns.\n",
    "X = alldata_shuffled.drop('price_doc', axis=1)\n",
    "# For the output, we'll use the log of the sales price.\n",
    "Y = alldata_shuffled['price_doc'].apply(np.log)\n",
    "\n",
    "# Split into training and test sets.\n",
    "X3train, X3test, Y3train, Y3test = train_test_split(X, Y, test_size=0.2, random_state=0)"
   ]
  },
  {
   "cell_type": "code",
   "execution_count": 56,
   "metadata": {},
   "outputs": [
    {
     "data": {
      "text/html": [
       "<div>\n",
       "<style scoped>\n",
       "    .dataframe tbody tr th:only-of-type {\n",
       "        vertical-align: middle;\n",
       "    }\n",
       "\n",
       "    .dataframe tbody tr th {\n",
       "        vertical-align: top;\n",
       "    }\n",
       "\n",
       "    .dataframe thead th {\n",
       "        text-align: right;\n",
       "    }\n",
       "</style>\n",
       "<table border=\"1\" class=\"dataframe\">\n",
       "  <thead>\n",
       "    <tr style=\"text-align: right;\">\n",
       "      <th></th>\n",
       "      <th>year</th>\n",
       "      <th>full_sq</th>\n",
       "      <th>life_sq</th>\n",
       "      <th>floor</th>\n",
       "      <th>num_room</th>\n",
       "      <th>kitch_sq</th>\n",
       "      <th>full_all</th>\n",
       "    </tr>\n",
       "  </thead>\n",
       "  <tbody>\n",
       "    <tr>\n",
       "      <th>11619</th>\n",
       "      <td>2013</td>\n",
       "      <td>76</td>\n",
       "      <td>45.0</td>\n",
       "      <td>9.0</td>\n",
       "      <td>3.0</td>\n",
       "      <td>10.0</td>\n",
       "      <td>76284</td>\n",
       "    </tr>\n",
       "    <tr>\n",
       "      <th>11300</th>\n",
       "      <td>2013</td>\n",
       "      <td>56</td>\n",
       "      <td>30.0</td>\n",
       "      <td>8.0</td>\n",
       "      <td>2.0</td>\n",
       "      <td>12.0</td>\n",
       "      <td>91100</td>\n",
       "    </tr>\n",
       "    <tr>\n",
       "      <th>20241</th>\n",
       "      <td>2014</td>\n",
       "      <td>38</td>\n",
       "      <td>22.0</td>\n",
       "      <td>3.0</td>\n",
       "      <td>2.0</td>\n",
       "      <td>6.0</td>\n",
       "      <td>57405</td>\n",
       "    </tr>\n",
       "    <tr>\n",
       "      <th>21320</th>\n",
       "      <td>2014</td>\n",
       "      <td>48</td>\n",
       "      <td>32.0</td>\n",
       "      <td>5.0</td>\n",
       "      <td>2.0</td>\n",
       "      <td>8.0</td>\n",
       "      <td>85083</td>\n",
       "    </tr>\n",
       "    <tr>\n",
       "      <th>27572</th>\n",
       "      <td>2015</td>\n",
       "      <td>62</td>\n",
       "      <td>62.0</td>\n",
       "      <td>2.0</td>\n",
       "      <td>1.0</td>\n",
       "      <td>1.0</td>\n",
       "      <td>39873</td>\n",
       "    </tr>\n",
       "  </tbody>\n",
       "</table>\n",
       "</div>"
      ],
      "text/plain": [
       "       year  full_sq  life_sq  floor  num_room  kitch_sq  full_all\n",
       "11619  2013       76     45.0    9.0       3.0      10.0     76284\n",
       "11300  2013       56     30.0    8.0       2.0      12.0     91100\n",
       "20241  2014       38     22.0    3.0       2.0       6.0     57405\n",
       "21320  2014       48     32.0    5.0       2.0       8.0     85083\n",
       "27572  2015       62     62.0    2.0       1.0       1.0     39873"
      ]
     },
     "execution_count": 56,
     "metadata": {},
     "output_type": "execute_result"
    }
   ],
   "source": [
    "X3train.head()"
   ]
  },
  {
   "cell_type": "code",
   "execution_count": 64,
   "metadata": {},
   "outputs": [
    {
     "data": {
      "text/plain": [
       "{'fit_time': array([0.00199795, 0.00199771, 0.00199962, 0.00100112, 0.00100112]),\n",
       " 'score_time': array([0.00100279, 0.00100112, 0.00099897, 0.00099945, 0.00099921]),\n",
       " 'test_score': array([-0.39897319, -0.37113485, -0.38083108, -0.39057156, -0.40475168])}"
      ]
     },
     "execution_count": 64,
     "metadata": {},
     "output_type": "execute_result"
    }
   ],
   "source": [
    "from sklearn.dummy import DummyRegressor\n",
    "from sklearn.model_selection import cross_validate\n",
    "m1 = DummyRegressor()\n",
    "cross_validate(m1, X3train, Y3train, scoring='neg_mean_squared_error')"
   ]
  },
  {
   "cell_type": "code",
   "execution_count": 127,
   "metadata": {},
   "outputs": [],
   "source": [
    "import sklearn as SK\n",
    "import warnings\n",
    "\n",
    "def evalAndAppendRegressor(writedict, reg, suffix=\"\"):\n",
    "    with warnings.catch_warnings():\n",
    "        warnings.filterwarnings('error', category=SK.exceptions.ConvergenceWarning)\n",
    "        warnings.filterwarnings('error', category=SK.exceptions.FitFailedWarning)\n",
    "        try:\n",
    "            scorelist = cross_val_score(reg, X3train, Y3train, scoring='neg_mean_squared_error')\n",
    "            score = mean(scorelist)\n",
    "        except (TypeError, ValueError, Warning) as e:\n",
    "            score = f\"Could not compute ({type(e).__name__})\"\n",
    "    methodName = f\"{type(reg).__name__}\"\n",
    "    if len(suffix)>0:\n",
    "        methodName += f\" ({suffix})\"\n",
    "    writedict[methodName] = score"
   ]
  },
  {
   "cell_type": "code",
   "execution_count": 163,
   "metadata": {},
   "outputs": [],
   "source": [
    "regScores = {}"
   ]
  },
  {
   "cell_type": "code",
   "execution_count": 164,
   "metadata": {},
   "outputs": [],
   "source": [
    "evalAndAppendRegressor(regScores, DummyRegressor())"
   ]
  },
  {
   "cell_type": "code",
   "execution_count": 165,
   "metadata": {},
   "outputs": [],
   "source": [
    "evalAndAppendRegressor(regScores, SK.linear_model.Ridge())"
   ]
  },
  {
   "cell_type": "code",
   "execution_count": 166,
   "metadata": {},
   "outputs": [],
   "source": [
    "evalAndAppendRegressor(regScores, SK.linear_model.Ridge())"
   ]
  },
  {
   "cell_type": "code",
   "execution_count": 167,
   "metadata": {},
   "outputs": [],
   "source": [
    "evalAndAppendRegressor(regScores, SK.linear_model.Lasso())"
   ]
  },
  {
   "cell_type": "code",
   "execution_count": 168,
   "metadata": {},
   "outputs": [],
   "source": [
    "evalAndAppendRegressor(regScores, SK.tree.DecisionTreeRegressor(max_depth=1), suffix=\"depth:1\")\n",
    "evalAndAppendRegressor(regScores, SK.tree.DecisionTreeRegressor(max_depth=2), suffix=\"depth:2\")\n",
    "evalAndAppendRegressor(regScores, SK.tree.DecisionTreeRegressor(max_depth=4), suffix=\"depth:4\")\n",
    "evalAndAppendRegressor(regScores, SK.tree.DecisionTreeRegressor(max_depth=8), suffix=\"depth:8\")\n",
    "evalAndAppendRegressor(regScores, SK.tree.DecisionTreeRegressor(max_depth=16), suffix=\"depth:16\")\n",
    "evalAndAppendRegressor(regScores, SK.tree.DecisionTreeRegressor(max_depth=32), suffix=\"depth:32\")"
   ]
  },
  {
   "cell_type": "code",
   "execution_count": 169,
   "metadata": {},
   "outputs": [],
   "source": [
    "evalAndAppendRegressor(regScores, SK.ensemble.RandomForestRegressor())\n",
    "evalAndAppendRegressor(regScores, SK.ensemble.RandomForestRegressor(n_estimators=10), suffix=\"estimators:10\")\n",
    "evalAndAppendRegressor(regScores, SK.ensemble.RandomForestRegressor(n_estimators=100), suffix=\"estimators:100\")"
   ]
  },
  {
   "cell_type": "code",
   "execution_count": 170,
   "metadata": {},
   "outputs": [],
   "source": [
    "evalAndAppendRegressor(regScores, SK.ensemble.GradientBoostingRegressor())\n",
    "evalAndAppendRegressor(regScores, SK.ensemble.GradientBoostingRegressor(max_depth=1), suffix=\"depth:1\")\n",
    "evalAndAppendRegressor(regScores, SK.ensemble.GradientBoostingRegressor(max_depth=3), suffix=\"depth:3\")\n",
    "evalAndAppendRegressor(regScores, SK.ensemble.GradientBoostingRegressor(max_depth=6), suffix=\"depth:6\")"
   ]
  },
  {
   "cell_type": "code",
   "execution_count": 171,
   "metadata": {},
   "outputs": [],
   "source": [
    "evalAndAppendRegressor(regScores, SK.neural_network.MLPRegressor())\n",
    "evalAndAppendRegressor(regScores, SK.neural_network.MLPRegressor(hidden_layer_sizes=(20,)), suffix=\"20 neurons\")\n",
    "evalAndAppendRegressor(regScores, SK.neural_network.MLPRegressor(hidden_layer_sizes=(35,)), suffix=\"35 neurons\")\n",
    "evalAndAppendRegressor(regScores, SK.neural_network.MLPRegressor(hidden_layer_sizes=(50,)), suffix=\"50 neurons\")\n",
    "evalAndAppendRegressor(regScores, SK.neural_network.MLPRegressor(hidden_layer_sizes=(200,)), suffix=\"200 neurons\")\n",
    "evalAndAppendRegressor(regScores, SK.neural_network.MLPRegressor(hidden_layer_sizes=[100,50,10,50,100]), suffix=\"100-50-10-50-100\")\n",
    "evalAndAppendRegressor(regScores, SK.neural_network.MLPRegressor(hidden_layer_sizes=[100,50,100]), suffix=\"100-50-100\")\n",
    "evalAndAppendRegressor(regScores, SK.neural_network.MLPRegressor(hidden_layer_sizes=[100]), suffix=\"1 layer\")"
   ]
  },
  {
   "cell_type": "code",
   "execution_count": 172,
   "metadata": {},
   "outputs": [],
   "source": [
    "def getRegressorAccuracy(kv):\n",
    "    k, v = kv\n",
    "    if isinstance(v, int) or isinstance(v, float) :\n",
    "        return v\n",
    "    else:\n",
    "        return float(\"-inf\")\n",
    "\n",
    "def printRegressors(regs):\n",
    "    maxKeyStrLen = max([len(x) for x in regs.keys()])\n",
    "\n",
    "    for k,v in sorted(regs.items(), key=getRegressorAccuracy, reverse=True):\n",
    "        kf = f\"{{:<{maxKeyStrLen}}}\".format(k)\n",
    "        print(f\"{kf} -> {v}\")"
   ]
  },
  {
   "attachments": {},
   "cell_type": "markdown",
   "metadata": {},
   "source": [
    "### Examples Regressors Results\n"
   ]
  },
  {
   "cell_type": "code",
   "execution_count": 173,
   "metadata": {},
   "outputs": [
    {
     "name": "stdout",
     "output_type": "stream",
     "text": [
      "GradientBoostingRegressor (depth:6)    -> -0.25934437253588155\n",
      "GradientBoostingRegressor              -> -0.264512687436728\n",
      "GradientBoostingRegressor (depth:3)    -> -0.26454842306284304\n",
      "GradientBoostingRegressor (depth:1)    -> -0.27984569212049737\n",
      "RandomForestRegressor                  -> -0.2831489213662228\n",
      "RandomForestRegressor (estimators:100) -> -0.2832435711280098\n",
      "DecisionTreeRegressor (depth:4)        -> -0.2855494394343464\n",
      "DecisionTreeRegressor (depth:8)        -> -0.28724606372066225\n",
      "Lasso                                  -> -0.3010470671748872\n",
      "Ridge                                  -> -0.30139784232179745\n",
      "DecisionTreeRegressor (depth:2)        -> -0.3043367605680858\n",
      "RandomForestRegressor (estimators:10)  -> -0.30669774022142643\n",
      "DecisionTreeRegressor (depth:1)        -> -0.32967650508193563\n",
      "DummyRegressor                         -> -0.38925247260237567\n",
      "DecisionTreeRegressor (depth:16)       -> -0.4111514574906903\n",
      "DecisionTreeRegressor (depth:32)       -> -0.5295684435274248\n",
      "MLPRegressor                           -> -12.321134736371928\n",
      "MLPRegressor (100-50-10-50-100)        -> -37.820877097109665\n",
      "MLPRegressor (50 neurons)              -> -67.78575542000296\n",
      "MLPRegressor (35 neurons)              -> -94.4524915125341\n",
      "MLPRegressor (20 neurons)              -> -475.7582761649832\n",
      "MLPRegressor (200 neurons)             -> -12269.843713629849\n",
      "MLPRegressor (1 layer)                 -> -26029.258218772255\n",
      "MLPRegressor (100-50-100)              -> -43852.21839347639\n"
     ]
    }
   ],
   "source": [
    "printRegressors(regScores)"
   ]
  },
  {
   "attachments": {},
   "cell_type": "markdown",
   "metadata": {},
   "source": [
    "Gradient Boosting is seemingly once again a good technique for this task.\n",
    "\n",
    "Using default Hyperparameters as the different tuning made little difference."
   ]
  },
  {
   "cell_type": "code",
   "execution_count": 174,
   "metadata": {},
   "outputs": [
    {
     "data": {
      "text/plain": [
       "0.27141326547642114"
      ]
     },
     "execution_count": 174,
     "metadata": {},
     "output_type": "execute_result"
    }
   ],
   "source": [
    "from sklearn.metrics import mean_squared_error\n",
    "\n",
    "regr = SK.ensemble.GradientBoostingRegressor()  \n",
    "regr.fit(X3train, Y3train)\n",
    "mean_squared_error(Y3test, regr.predict(X3test))"
   ]
  },
  {
   "attachments": {},
   "cell_type": "markdown",
   "metadata": {},
   "source": [
    "The mean squared error for the test sample became ~0.271, this very close to the mse cross val score for the training set (~0.265). \n",
    "\n",
    "Thus we can conclude Gradient Boosting is a good classifier for the data and it isn't overtrained on the test data."
   ]
  }
 ],
 "metadata": {
  "kernelspec": {
   "display_name": "Python 3",
   "language": "python",
   "name": "python3"
  },
  "language_info": {
   "codemirror_mode": {
    "name": "ipython",
    "version": 3
   },
   "file_extension": ".py",
   "mimetype": "text/x-python",
   "name": "python",
   "nbconvert_exporter": "python",
   "pygments_lexer": "ipython3",
   "version": "3.10.7"
  },
  "orig_nbformat": 4,
  "vscode": {
   "interpreter": {
    "hash": "885babeb552a0dd32dea07ce1d823818686b580e3ddf258ef353a375a38912d7"
   }
  }
 },
 "nbformat": 4,
 "nbformat_minor": 2
}
